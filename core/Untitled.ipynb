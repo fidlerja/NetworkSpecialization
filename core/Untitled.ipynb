{
 "cells": [
  {
   "cell_type": "code",
   "execution_count": 1,
   "metadata": {},
   "outputs": [],
   "source": [
    "import sys\n",
    "# sys.path.insert(0,'/home/adam/Desktop/Research/NetworkSpecialization/core/')\n",
    "import specializer as s\n",
    "import numpy as np\n",
    "import random\n",
    "import networkx as nx\n",
    "# import networkx.generators.geometric.random_geometric_graph as rgg\n",
    "from importlib import reload\n",
    "from copy import deepcopy\n"
   ]
  },
  {
   "cell_type": "code",
   "execution_count": 3,
   "metadata": {},
   "outputs": [],
   "source": [
    "if __name__ == \"__main__\":\n",
    "    reload(s)\n",
    "    def zero(x):\n",
    "        return 0\n",
    "\n",
    "def random_matrix(n,distance):\n",
    "#     A = np.random.randint(0,2,(n,n))\n",
    "#     A *= (np.eye(n) == 0)\n",
    "    A = nx.to_numpy_array(nx.random_geometric_graph(n,distance))\n",
    "    f = [[zero for _ in range(n)] for _ in range(n)]\n",
    "    f = np.array(f)\n",
    "\n",
    "    a = np.diag(f)\n",
    "    labels = [str(i) for i in range(1,len(A)+1)]\n",
    "    return s.DirectedGraph(A, (a,f),labels=labels)\n",
    "\n",
    "def basic_test():\n",
    "    A = np.array([[0,0,0,1],\n",
    "                  [1,0,1,0],\n",
    "                  [1,1,0,0],\n",
    "                  [0,1,1,0]])\n",
    "\n",
    "    f = np.array([[zero,zero,zero,zero],\n",
    "                  [zero,zero,zero,zero],\n",
    "                  [zero,zero,zero,zero],\n",
    "                  [zero,zero,zero,zero]])\n",
    "\n",
    "    a = np.diag(f)\n",
    "\n",
    "\n",
    "\n",
    "    labels = ['1','2','3','4']\n",
    "\n",
    "    G = s.DirectedGraph(A, (a,f), labels=labels)\n",
    "#     G.network_vis(use_eqp=True)\n",
    "    return G"
   ]
  },
  {
   "cell_type": "code",
   "execution_count": null,
   "metadata": {},
   "outputs": [],
   "source": []
  },
  {
   "cell_type": "code",
   "execution_count": null,
   "metadata": {},
   "outputs": [
    {
     "name": "stdout",
     "output_type": "stream",
     "text": [
      "Coloring... Done!\n",
      "{0: array([6]), 1: array([1]), 2: array([2, 4, 5, 7]), 3: array([0, 9]), 4: array([8]), 5: array([3])}\n",
      "Specializing... Coloring... Done!\n",
      "Done!\n",
      "Specializing... Coloring... Done!\n",
      "Done!\n",
      "Specializing... Coloring... Done!\n",
      "Done!\n",
      "Specializing... Coloring... Done!\n",
      "Done!\n",
      "Specializing... "
     ]
    }
   ],
   "source": [
    "G = random_matrix(10,.5)\n",
    "G.coloring()\n",
    "print(G.colors)\n",
    "L = []\n",
    "for i in range(6):\n",
    "    num_spec = int(np.floor(.9*len(G.indices)))\n",
    "    to_spec = random.sample(list(G.indices),num_spec)\n",
    "    G.specialize(to_spec,recolor=True)\n",
    "    L.append(deepcopy(G))\n"
   ]
  },
  {
   "cell_type": "code",
   "execution_count": 138,
   "metadata": {},
   "outputs": [
    {
     "data": {
      "text/plain": [
       "{0: array([255]),\n",
       " 1: array([  2,   6,  11,  12,  13,  14,  19,  20,  21,  23,  25,  26,  27,\n",
       "         28,  29,  31,  33,  34,  36,  37,  38,  39,  40,  41,  42,  43,\n",
       "         44,  45,  46,  47,  48,  49,  50,  51,  52,  53,  55,  56,  58,\n",
       "         60,  62,  63,  64,  65,  66,  67,  68,  69,  70,  71,  72,  73,\n",
       "         76,  77,  78,  79,  80,  81,  82,  83,  84,  85,  86,  87,  88,\n",
       "         89,  90,  91,  93,  94,  95,  96,  97,  98,  99, 100, 101, 102,\n",
       "        103, 104, 105, 106, 107, 108, 109, 110, 111, 112, 113, 114, 115,\n",
       "        116, 117, 118, 119, 120, 121, 122, 123, 124, 125, 126, 127, 128,\n",
       "        129, 130, 131, 132, 133, 134, 135, 136, 137, 138, 139, 140, 141,\n",
       "        142, 143, 144, 146, 147, 148, 149, 150, 151, 152, 153, 154, 155,\n",
       "        156, 157, 158, 159, 160, 162, 163, 164, 165, 166, 167, 168, 169,\n",
       "        170, 171, 172, 173, 174, 175, 176, 177, 178, 179, 180, 181, 182,\n",
       "        183, 184, 185, 186, 187, 188, 189, 190, 191, 192, 193, 194, 195,\n",
       "        196, 197, 198, 199, 200, 201, 202, 203, 204, 205, 206, 207, 208,\n",
       "        209, 210, 211, 212, 213, 214, 215, 216, 217, 218, 219, 220, 221,\n",
       "        222, 223, 224, 225, 226, 227, 228, 229, 230, 231, 232, 233, 234,\n",
       "        235, 236, 237, 238, 239, 240, 241, 242, 243, 244, 245, 246, 248,\n",
       "        249, 250, 251, 252, 253, 254, 256, 257, 258, 259, 260, 261, 262,\n",
       "        263, 264, 266, 267, 268, 270, 271, 272, 273, 274, 275, 276, 277,\n",
       "        278, 279, 280, 281, 282, 283, 284, 285, 286, 287, 288, 289, 290,\n",
       "        291, 292, 293, 294, 295, 296, 298, 299, 300, 301, 302, 303, 304,\n",
       "        305, 306, 307, 308, 309, 310, 311, 312, 313, 314, 315, 316, 317,\n",
       "        318, 319, 320, 321, 322, 324, 325, 326, 327, 328, 329, 330, 331,\n",
       "        332, 333, 334, 335, 336, 337, 338, 339, 340, 341, 342, 343, 344,\n",
       "        345, 346, 347, 348, 349, 350, 351, 352, 353, 354, 355, 356, 357,\n",
       "        358, 360, 362, 363, 364, 367, 368, 369, 370, 371, 372, 374, 375,\n",
       "        376, 377, 378, 379, 380, 381, 382, 383, 384, 385, 386, 387, 388,\n",
       "        389, 390, 391, 392, 393, 394, 395, 396, 397, 398, 399, 400, 401,\n",
       "        402, 403, 404, 406, 407, 408, 409, 410, 411, 412, 413, 414, 415,\n",
       "        416, 417, 418, 419, 420, 421, 422, 423, 424, 425, 426, 427, 428,\n",
       "        429, 430, 431, 432, 433, 434, 435, 436, 437, 438, 439, 440, 441,\n",
       "        442, 443, 444, 445, 446, 447, 448, 449, 450, 451, 452, 453, 454,\n",
       "        455, 456, 457, 458, 459, 460, 461, 462, 463, 464, 465, 466, 467,\n",
       "        468, 469, 470, 471, 472, 473, 474, 475, 476, 477, 478, 479, 480,\n",
       "        481, 482, 483, 484, 485, 486, 488, 489, 490, 491, 492, 493, 494,\n",
       "        495, 496, 497, 498, 499, 500, 501, 502, 503, 504, 505, 506, 507,\n",
       "        508, 509, 510, 511, 512, 513, 514, 515, 516, 517, 518, 519, 520,\n",
       "        521, 522, 523, 524, 525, 526, 527, 528, 529, 530, 531, 532, 533,\n",
       "        534, 535, 536, 537, 538, 539, 540, 541, 542, 543, 544, 545, 546,\n",
       "        547, 548, 549, 550, 551, 552, 553, 554, 555, 556, 557, 558, 559,\n",
       "        560, 561, 562, 563, 564, 565, 566, 567, 568, 569, 570, 571, 572,\n",
       "        573, 574, 575, 576, 577, 578, 579, 580, 581, 582, 583, 584, 585,\n",
       "        586, 587, 588, 589, 590, 591, 592, 593, 594, 595, 596, 597, 598,\n",
       "        599, 600, 601, 602, 603, 604, 605, 606, 607, 608, 609, 610, 611,\n",
       "        612, 613, 614, 615, 616, 617, 618, 619, 620, 621, 622, 623, 624,\n",
       "        625, 626, 627, 628, 629, 630, 631, 632, 633, 634, 635, 636, 637,\n",
       "        638, 639]),\n",
       " 2: array([269]),\n",
       " 3: array([61]),\n",
       " 4: array([323])}"
      ]
     },
     "execution_count": 138,
     "metadata": {},
     "output_type": "execute_result"
    }
   ],
   "source": [
    "L[1].colors"
   ]
  },
  {
   "cell_type": "code",
   "execution_count": 33,
   "metadata": {},
   "outputs": [
    {
     "name": "stdout",
     "output_type": "stream",
     "text": [
      "\n",
      "{0: array([0]), 1: array([1]), 2: array([2]), 3: array([8]), 4: array([3]), 5: array([9]), 6: array([4]), 7: array([5]), 8: array([6]), 9: array([7])}\n",
      "\n",
      "{0: array([0]), 1: array([1]), 2: array([2]), 3: array([8]), 4: array([3]), 5: array([9]), 6: array([4]), 7: array([5]), 8: array([6]), 9: array([7])}\n",
      "\n",
      "{0: array([0]), 1: array([1]), 2: array([2]), 3: array([8]), 4: array([3]), 5: array([9]), 6: array([4]), 7: array([5]), 8: array([6]), 9: array([7])}\n",
      "\n",
      "{0: array([0]), 1: array([1]), 2: array([2]), 3: array([8]), 4: array([3]), 5: array([9]), 6: array([4]), 7: array([5]), 8: array([6]), 9: array([7])}\n",
      "\n",
      "{0: array([0]), 1: array([1]), 2: array([8]), 3: array([9]), 4: array([4]), 5: array([5]), 6: array([2, 3]), 7: array([6]), 8: array([7])}\n"
     ]
    }
   ],
   "source": [
    "for i in range(5):\n",
    "    G = random_matrix(10)\n",
    "    G.coloring()\n",
    "    print()\n",
    "    print(G.colors)"
   ]
  },
  {
   "cell_type": "code",
   "execution_count": null,
   "metadata": {},
   "outputs": [],
   "source": []
  }
 ],
 "metadata": {
  "kernelspec": {
   "display_name": "Python 3",
   "language": "python",
   "name": "python3"
  },
  "language_info": {
   "codemirror_mode": {
    "name": "ipython",
    "version": 3
   },
   "file_extension": ".py",
   "mimetype": "text/x-python",
   "name": "python",
   "nbconvert_exporter": "python",
   "pygments_lexer": "ipython3",
   "version": "3.7.3"
  }
 },
 "nbformat": 4,
 "nbformat_minor": 4
}
